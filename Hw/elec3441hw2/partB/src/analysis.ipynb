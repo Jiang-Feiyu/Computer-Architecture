{
 "cells": [
  {
   "cell_type": "code",
   "execution_count": 1,
   "id": "33b75ea1",
   "metadata": {},
   "outputs": [
    {
     "name": "stdout",
     "output_type": "stream",
     "text": [
      "<pandas.core.groupby.generic.DataFrameGroupBy object at 0x1174e6430>\n"
     ]
    }
   ],
   "source": [
    "import pandas as pd\n",
    "import numpy as np\n",
    "\n",
    "# 读取数据文件\n",
    "df = pd.read_csv('dc.csv')\n",
    "\n",
    "# 提取相同 \"Data Cache\" 值的行\n",
    "grouped = df.groupby('Data Cache')\n",
    "\n",
    "# 创建空列表，用于存储结果\n",
    "results = []\n",
    "\n",
    "print(grouped)"
   ]
  },
  {
   "cell_type": "code",
   "execution_count": 2,
   "id": "de9854c1",
   "metadata": {},
   "outputs": [],
   "source": [
    "# 遍历每个 \"Data Cache\" 分组\n",
    "for cache_value, group in grouped:\n",
    "    # 提取 \"D$ Miss Rate\" 列的值，并转换为浮点数\n",
    "    miss_rate_values = group['D$ Miss Rate'].str.rstrip('%').astype(float).values\n",
    "    \n",
    "    # 将字符串转换为浮点数，并计算几何平均数\n",
    "    miss_rate = np.exp(np.mean(np.log(miss_rate_values)))\n",
    "    \n",
    "    # 将结果添加到列表中\n",
    "    results.append([cache_value, miss_rate])\n",
    "\n",
    "# 将结果转换为 DataFrame\n",
    "result_df = pd.DataFrame(results, columns=['Data Cache', 'Mean'])\n",
    "\n",
    "# 保存结果到文件\n",
    "result_df.to_csv('ranking.csv', index=False)"
   ]
  },
  {
   "cell_type": "code",
   "execution_count": null,
   "id": "1ee09683",
   "metadata": {},
   "outputs": [],
   "source": []
  }
 ],
 "metadata": {
  "kernelspec": {
   "display_name": "Python 3 (ipykernel)",
   "language": "python",
   "name": "python3"
  },
  "language_info": {
   "codemirror_mode": {
    "name": "ipython",
    "version": 3
   },
   "file_extension": ".py",
   "mimetype": "text/x-python",
   "name": "python",
   "nbconvert_exporter": "python",
   "pygments_lexer": "ipython3",
   "version": "3.9.18"
  }
 },
 "nbformat": 4,
 "nbformat_minor": 5
}
